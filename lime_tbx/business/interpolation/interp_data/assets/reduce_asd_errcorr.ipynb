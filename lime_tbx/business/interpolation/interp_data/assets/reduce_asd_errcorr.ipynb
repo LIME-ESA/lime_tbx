{
 "cells": [
  {
   "cell_type": "markdown",
   "metadata": {},
   "source": [
    "# Reducing ASD wavelengths error correlation matrix from `float64` to `float32`"
   ]
  },
  {
   "cell_type": "markdown",
   "metadata": {},
   "source": [
    "Javier Gatón Herguedas"
   ]
  },
  {
   "cell_type": "markdown",
   "metadata": {},
   "source": [
    "## Introduction"
   ]
  },
  {
   "cell_type": "markdown",
   "metadata": {},
   "source": [
    "When interpolating the reflectance from the **CIMEL** points to the whole **ASD** spectrum, the ASD wavelengths error\n",
    "correlation matrix is used to propagate the uncertainties. This is currently a **2151 × 2151** double-precision\n",
    "floating-point (`float64`) matrix.\n",
    "\n",
    "The `comet_maths` library requires **M** to be **positive semi-definite (PSD)**, which can be described\n",
    "as **M** being a **Hermitian matrix** (including real symmetric matrices) where all its **eigenvalues are\n",
    "real and non-negative**.\n",
    "\n",
    "If the provided matrix is not **positive semi-definite**, `comet_maths` calculates the **closest positive\n",
    "definite matrix** during run-time, which is a **time-consuming task** for a **2151 × 2151** matrix.\n",
    "\n",
    "Using a **`float32` ASD error correlation matrix** instead of `float64` speeds up the simulation **2.5 times**. However, \n",
    "simply converting values to `float32` leads to truncation, causing the matrix to **lose its positive semi-definite property**. \n",
    "If we then compute the **nearest positive definite matrix** using `comet_maths.nearestPD_cholesky`, the resulting matrix has \n",
    "**diagonal values greater than 1**, which is **incompatible** with other uncertainty propagation functions.\n",
    "\n",
    "### Objective\n",
    "In this notebook, we explore different methods to obtain a **positive semi-definite `float32` matrix** \n",
    "with **1s in the diagonal**, derived from the original **`float64` positive semi-definite matrix**.\n"
   ]
  },
  {
   "cell_type": "markdown",
   "metadata": {},
   "source": [
    "## Imports, data loads, and base function definitions"
   ]
  },
  {
   "cell_type": "code",
   "execution_count": 1,
   "metadata": {},
   "outputs": [],
   "source": [
    "import warnings\n",
    "\n",
    "import numpy as np\n",
    "import xarray as xr\n",
    "import comet_maths as cm\n",
    "\n",
    "warnings.filterwarnings('ignore', message=\"Duplicate dimension names present\")\n",
    "warnings.filterwarnings('ignore', message=\"One of the provided covariance\")"
   ]
  },
  {
   "cell_type": "code",
   "execution_count": 2,
   "metadata": {},
   "outputs": [],
   "source": [
    "_DS_ASD_PATH = \"./ds_ASD_original.nc\"\n",
    "\n",
    "def get_err_corr() -> np.ndarray:\n",
    "    with xr.open_dataset(_DS_ASD_PATH) as ds:\n",
    "        vals = ds[\"err_corr_reflectance_wavelength\"].values\n",
    "    return vals"
   ]
  },
  {
   "cell_type": "code",
   "execution_count": 3,
   "metadata": {},
   "outputs": [],
   "source": [
    "def is_PSD(mat: np.ndarray, tol: float = 1e-10):\n",
    "    \"\"\"Check if a matrix is Positive Semi-Definite (PSD) by verifying eigenvalues.\"\"\"\n",
    "    eigenvalues = np.linalg.eigvalsh(mat)\n",
    "    lim = -tol # Allow for small numerical errors\n",
    "    return np.all(eigenvalues >= lim)"
   ]
  },
  {
   "cell_type": "code",
   "execution_count": 4,
   "metadata": {},
   "outputs": [
    {
     "name": "stdout",
     "output_type": "stream",
     "text": [
      "False\n",
      "True\n"
     ]
    }
   ],
   "source": [
    "# We need some tolerance due to floating point arithmetic.\n",
    "# Even the original matrix wouldn't pass the is_PSD test without it\n",
    "print(is_PSD(get_err_corr(), tol=0))\n",
    "print(is_PSD(get_err_corr()))"
   ]
  },
  {
   "cell_type": "code",
   "execution_count": 5,
   "metadata": {},
   "outputs": [],
   "source": [
    "def normalise_div(A: np.ndarray):\n",
    "    return A / np.max(A)\n",
    "\n",
    "def normalise(A: np.ndarray):\n",
    "    A = A.copy()\n",
    "    D = np.diag(1 / np.sqrt(np.diag(A)))\n",
    "    A = D @ A @ D\n",
    "    np.fill_diagonal(A, 1)\n",
    "    return A"
   ]
  },
  {
   "cell_type": "code",
   "execution_count": 6,
   "metadata": {},
   "outputs": [],
   "source": [
    "def analyze_ec(ec: np.ndarray, tol: float = 1e-10) -> dict:\n",
    "    ec_src = get_err_corr()\n",
    "    rel_diff = 100*(ec - ec_src)/ec_src\n",
    "    rel_diff = np.abs(np.ravel(rel_diff))\n",
    "    analysis = {\n",
    "        'dtype': ec.dtype,\n",
    "        'PSD': is_PSD(ec, tol),\n",
    "        'diff_min': min(rel_diff),\n",
    "        'diff_max': max(rel_diff),\n",
    "        'diff_mean': np.mean(rel_diff),\n",
    "        'diff_std': np.std(rel_diff),\n",
    "        'max_diag': max(np.diag(ec))\n",
    "    }\n",
    "    return analysis\n",
    "\n",
    "def describe_ec(ec: np.ndarray, tol: float = 1e-10):\n",
    "    analysis = analyze_ec(ec, tol)\n",
    "    vals = []\n",
    "    for k in analysis:\n",
    "        if k.startswith('diff'):\n",
    "            vals.append(f\"{k}: {analysis[k]:.4g}%\")\n",
    "        else:\n",
    "            vals.append(f\"{k}: {analysis[k]}\")\n",
    "    vals = '\\n'.join(vals)\n",
    "    print(vals)"
   ]
  },
  {
   "cell_type": "markdown",
   "metadata": {},
   "source": [
    "## Using comet_maths.nearestPD_cholesky"
   ]
  },
  {
   "cell_type": "markdown",
   "metadata": {},
   "source": [
    "As described in the introduction, the original matrix is PSD"
   ]
  },
  {
   "cell_type": "code",
   "execution_count": 7,
   "metadata": {},
   "outputs": [
    {
     "name": "stdout",
     "output_type": "stream",
     "text": [
      "dtype: float64\n",
      "PSD: True\n",
      "diff_min: 0%\n",
      "diff_max: 0%\n",
      "diff_mean: 0%\n",
      "diff_std: 0%\n",
      "max_diag: 1.0000000000000002\n"
     ]
    }
   ],
   "source": [
    "ec = get_err_corr()\n",
    "describe_ec(ec)"
   ]
  },
  {
   "cell_type": "markdown",
   "metadata": {},
   "source": [
    "But the `float32`-truncated matrix is not PSD"
   ]
  },
  {
   "cell_type": "code",
   "execution_count": 8,
   "metadata": {},
   "outputs": [
    {
     "name": "stdout",
     "output_type": "stream",
     "text": [
      "dtype: float32\n",
      "PSD: False\n",
      "diff_min: 0%\n",
      "diff_max: 3.424e-06%\n",
      "diff_mean: 1.528e-06%\n",
      "diff_std: 8.844e-07%\n",
      "max_diag: 1.0\n"
     ]
    }
   ],
   "source": [
    "ec = get_err_corr().astype(np.float32)\n",
    "describe_ec(ec)"
   ]
  },
  {
   "cell_type": "markdown",
   "metadata": {},
   "source": [
    "Using `comet_maths.nearestPD_cholesky` we get a PSD matrix, but the diagonal contains values too big (slightly over 1)"
   ]
  },
  {
   "cell_type": "code",
   "execution_count": 9,
   "metadata": {},
   "outputs": [
    {
     "name": "stdout",
     "output_type": "stream",
     "text": [
      "dtype: float32\n",
      "PSD: True\n",
      "diff_min: 2.783e-13%\n",
      "diff_max: 0.01296%\n",
      "diff_mean: 1.325e-05%\n",
      "diff_std: 0.0002786%\n",
      "max_diag: 1.0001295804977417\n"
     ]
    }
   ],
   "source": [
    "ec = get_err_corr().astype(np.float32)\n",
    "ec = cm.nearestPD_cholesky(ec, return_cholesky=False)\n",
    "describe_ec(ec)"
   ]
  },
  {
   "cell_type": "markdown",
   "metadata": {},
   "source": [
    "If we normalise that matrix, we get a valid PSD matrix."
   ]
  },
  {
   "cell_type": "code",
   "execution_count": 10,
   "metadata": {},
   "outputs": [
    {
     "name": "stdout",
     "output_type": "stream",
     "text": [
      "dtype: float32\n",
      "PSD: True\n",
      "diff_min: 0%\n",
      "diff_max: 0.01298%\n",
      "diff_mean: 0.01291%\n",
      "diff_std: 0.0002787%\n",
      "max_diag: 1.0\n"
     ]
    }
   ],
   "source": [
    "ec = get_err_corr().astype(np.float32)\n",
    "ec = cm.nearestPD_cholesky(ec, return_cholesky=False)\n",
    "ec = normalise(ec)\n",
    "describe_ec(ec)"
   ]
  },
  {
   "cell_type": "markdown",
   "metadata": {},
   "source": [
    "The mean relative difference is 0.01291%. Can we get a more similar PSD matrix?"
   ]
  },
  {
   "cell_type": "markdown",
   "metadata": {},
   "source": [
    "## Using a nearestPSD method"
   ]
  },
  {
   "cell_type": "markdown",
   "metadata": {},
   "source": [
    "The most popular method is a similar version of the comet_maths method, but there are multiple\n",
    "methods online for the calculation of the nearest PSD. Most of them haven't been useful for the\n",
    "purpose of this notebook, except for a modification of the method described in the Method 0 subsection."
   ]
  },
  {
   "cell_type": "markdown",
   "metadata": {},
   "source": [
    "### Method 0"
   ]
  },
  {
   "cell_type": "code",
   "execution_count": 11,
   "metadata": {},
   "outputs": [],
   "source": [
    "def closestPSD_0(A: np.ndarray, tol=1e-10) -> np.ndarray:\n",
    "    A = (A + A.T) / 2\n",
    "    eigvals, eigvecs = np.linalg.eigh(A)\n",
    "    eigvals[eigvals < tol] = 0\n",
    "    A = eigvecs @ np.diag(eigvals) @ eigvecs.T\n",
    "    return A"
   ]
  },
  {
   "cell_type": "code",
   "execution_count": 12,
   "metadata": {},
   "outputs": [
    {
     "name": "stdout",
     "output_type": "stream",
     "text": [
      "dtype: float32\n",
      "PSD: False\n",
      "diff_min: 7.873e-13%\n",
      "diff_max: 4.768e-05%\n",
      "diff_mean: 4.343e-06%\n",
      "diff_std: 3.26e-06%\n",
      "max_diag: 1.0000004768371582\n"
     ]
    }
   ],
   "source": [
    "ec = get_err_corr().astype(np.float32)\n",
    "ec = closestPSD_0(ec)\n",
    "describe_ec(ec)"
   ]
  },
  {
   "cell_type": "markdown",
   "metadata": {},
   "source": [
    "It doesn't work.\n",
    "\n",
    "If we look at Brian Borchers' answer in stackexchange: https://scicomp.stackexchange.com/a/12984,\n",
    "we see that a good definition for the `is_PSD` method is to, instead of checking that\n",
    "all eigenvalues are greater than `-tol`, check that they are greater than `-tol * max(eigenvals)`.\n",
    "\n",
    "We aren't modifying our `is_PSD` method, but if we apply that idea to this function it starts working.\n",
    "This can be seen in the Method 1 subsection."
   ]
  },
  {
   "cell_type": "markdown",
   "metadata": {},
   "source": [
    "### Method 1"
   ]
  },
  {
   "cell_type": "code",
   "execution_count": 13,
   "metadata": {},
   "outputs": [],
   "source": [
    "def closestPSD_maxeigval(A: np.ndarray, tol=1e-10) -> np.ndarray:\n",
    "    A = (A + A.T) / 2\n",
    "    eigvals, eigvecs = np.linalg.eigh(A)\n",
    "    eigvals[eigvals < tol] = tol * max(eigvals)\n",
    "    A = eigvecs @ np.diag(eigvals) @ eigvecs.T\n",
    "    return A"
   ]
  },
  {
   "cell_type": "markdown",
   "metadata": {},
   "source": [
    "We increase the tolerance until the resulting matrix is actually PSD.\n",
    "\n",
    "The diagonal values are too high."
   ]
  },
  {
   "cell_type": "code",
   "execution_count": 14,
   "metadata": {},
   "outputs": [
    {
     "name": "stdout",
     "output_type": "stream",
     "text": [
      "1e-6\n",
      "dtype: float32\n",
      "PSD: True\n",
      "diff_min: 5.595e-10%\n",
      "diff_max: 0.1881%\n",
      "diff_mean: 0.001369%\n",
      "diff_std: 0.003923%\n",
      "max_diag: 1.0018811225891113\n"
     ]
    }
   ],
   "source": [
    "ec = get_err_corr().astype(np.float32)\n",
    "for i in range(10):\n",
    "    eci = closestPSD_maxeigval(ec, tol=10**(-10+i))\n",
    "    if is_PSD(eci):\n",
    "        break\n",
    "ec = eci\n",
    "print(f\"1e-{10-i}\")\n",
    "describe_ec(ec)"
   ]
  },
  {
   "cell_type": "markdown",
   "metadata": {},
   "source": [
    "Normalising the matrix we get a valid PSD matrix but the mean relative difference is much worse than with the closestPD\n",
    "method."
   ]
  },
  {
   "cell_type": "code",
   "execution_count": 15,
   "metadata": {},
   "outputs": [
    {
     "name": "stdout",
     "output_type": "stream",
     "text": [
      "dtype: float32\n",
      "PSD: True\n",
      "diff_min: 0%\n",
      "diff_max: 0.1916%\n",
      "diff_mean: 0.1755%\n",
      "diff_std: 0.01072%\n",
      "max_diag: 1.0\n"
     ]
    }
   ],
   "source": [
    "ec = get_err_corr().astype(np.float32)\n",
    "ec = closestPSD_maxeigval(ec, tol=1e-6)\n",
    "ec = normalise(ec)\n",
    "describe_ec(ec)"
   ]
  },
  {
   "cell_type": "markdown",
   "metadata": {},
   "source": [
    "If the function is applied to the original matrix before applying it to the truncated one, we\n",
    "obtain slightly better results."
   ]
  },
  {
   "cell_type": "code",
   "execution_count": 16,
   "metadata": {},
   "outputs": [
    {
     "name": "stdout",
     "output_type": "stream",
     "text": [
      "dtype: float64\n",
      "PSD: True\n",
      "diff_min: 0%\n",
      "diff_max: 2.091e-05%\n",
      "diff_mean: 4.777e-08%\n",
      "diff_std: 4.392e-07%\n",
      "max_diag: 1.000000209136463\n",
      "dtype: float32\n",
      "PSD: False\n",
      "diff_min: 2.783e-13%\n",
      "diff_max: 2.384e-05%\n",
      "diff_mean: 1.54e-06%\n",
      "diff_std: 9.982e-07%\n",
      "max_diag: 1.000000238418579\n",
      "1e-6\n",
      "dtype: float32\n",
      "PSD: True\n",
      "diff_min: 7.622e-10%\n",
      "diff_max: 0.1707%\n",
      "diff_mean: 0.001616%\n",
      "diff_std: 0.003625%\n",
      "max_diag: 1.0017071962356567\n",
      "dtype: float32\n",
      "PSD: False\n",
      "diff_min: 0%\n",
      "diff_max: 0.1779%\n",
      "diff_mean: 0.1595%\n",
      "diff_std: 0.009314%\n",
      "max_diag: 1.0\n"
     ]
    }
   ],
   "source": [
    "ec = get_err_corr()\n",
    "ec = closestPSD_maxeigval(ec)\n",
    "describe_ec(ec)\n",
    "ec = ec.astype(np.float32)\n",
    "describe_ec(ec)\n",
    "for i in range(10):\n",
    "    eci = closestPSD_maxeigval(ec, tol=10**(-10+i))\n",
    "    if is_PSD(eci):\n",
    "        break\n",
    "ec = eci\n",
    "print(f\"1e-{10-i}\")\n",
    "describe_ec(ec)\n",
    "ec = normalise(ec)\n",
    "describe_ec(ec)"
   ]
  },
  {
   "cell_type": "markdown",
   "metadata": {},
   "source": [
    "If we apply the function to the original matrix but with an increased tolerance, the results improve.\n",
    "\n",
    "This was discovered setting the tolerance to 1e-8, and manually through trial and error the value \n",
    "4.772e-9 was selected.\n",
    "A valid PSD matrix with a mean relative difference of 0.0009364% was obtained. This is over 10 times\n",
    "smaller than the matrix adapted initally."
   ]
  },
  {
   "cell_type": "code",
   "execution_count": 17,
   "metadata": {},
   "outputs": [
    {
     "name": "stdout",
     "output_type": "stream",
     "text": [
      "dtype: float64\n",
      "PSD: True\n",
      "diff_min: 7.269e-14%\n",
      "diff_max: 0.000998%\n",
      "diff_mean: 2.28e-06%\n",
      "diff_std: 2.096e-05%\n",
      "max_diag: 1.0000099799920181\n",
      "dtype: float32\n",
      "PSD: True\n",
      "diff_min: 2.783e-13%\n",
      "diff_max: 0.001001%\n",
      "diff_mean: 3.087e-06%\n",
      "diff_std: 2.092e-05%\n",
      "max_diag: 1.0000100135803223\n",
      "dtype: float32\n",
      "PSD: False\n",
      "diff_min: 0%\n",
      "diff_max: 0.001011%\n",
      "diff_mean: 0.0009467%\n",
      "diff_std: 5.769e-05%\n",
      "max_diag: 1.0\n",
      "2e-10\n",
      "dtype: float32\n",
      "PSD: True\n",
      "diff_min: 0%\n",
      "diff_max: 0.001021%\n",
      "diff_mean: 0.0009364%\n",
      "diff_std: 5.816e-05%\n",
      "max_diag: 1.0\n",
      "dtype: float32\n",
      "PSD: True\n",
      "diff_min: 0%\n",
      "diff_max: 0.001021%\n",
      "diff_mean: 0.0009364%\n",
      "diff_std: 5.816e-05%\n",
      "max_diag: 1.0\n"
     ]
    }
   ],
   "source": [
    "ec = get_err_corr()\n",
    "ec = closestPSD_maxeigval(ec, 4.772e-9) # 4.772e-9 0.0009364%\n",
    "describe_ec(ec)\n",
    "ec = ec.astype(np.float32)\n",
    "describe_ec(ec)\n",
    "if not is_PSD(ec):\n",
    "    for i in range(10):\n",
    "        for j in range(9):\n",
    "            eci = closestPSD_maxeigval(ec, tol=(j+1)*10**(-10+i))\n",
    "            if is_PSD(eci):\n",
    "                break\n",
    "        if is_PSD(eci):\n",
    "                break\n",
    "    ec = eci\n",
    "    print(f\"{(j+1)}e-{10-i}\")\n",
    "    describe_ec(ec)\n",
    "ec = normalise(ec)\n",
    "describe_ec(ec)\n",
    "if not is_PSD(ec):\n",
    "    for i in range(10):\n",
    "        for j in range(9):\n",
    "            eci = closestPSD_maxeigval(ec, tol=(j+1)*10**(-10+i))\n",
    "            eci = normalise(eci)\n",
    "            if is_PSD(eci):\n",
    "                break\n",
    "        if is_PSD(eci):\n",
    "            break\n",
    "    ec = eci\n",
    "    print(f\"{j+1}e-{10-i}\")\n",
    "    describe_ec(ec)\n",
    "describe_ec(ec)"
   ]
  },
  {
   "cell_type": "markdown",
   "metadata": {},
   "source": [
    "## Store the new matrix"
   ]
  },
  {
   "cell_type": "code",
   "execution_count": 18,
   "metadata": {},
   "outputs": [
    {
     "name": "stdout",
     "output_type": "stream",
     "text": [
      "dtype: float32\n",
      "PSD: True\n",
      "diff_min: 0%\n",
      "diff_max: 0.001021%\n",
      "diff_mean: 0.0009364%\n",
      "diff_std: 5.816e-05%\n",
      "max_diag: 1.0\n"
     ]
    }
   ],
   "source": [
    "ec = get_err_corr()\n",
    "ec = closestPSD_maxeigval(ec, tol=4.772e-9)\n",
    "ec = ec.astype(np.float32)\n",
    "ec = normalise(ec)\n",
    "ec = closestPSD_maxeigval(ec, tol=2e-10)\n",
    "ec = normalise(ec)\n",
    "describe_ec(ec)"
   ]
  },
  {
   "cell_type": "code",
   "execution_count": 19,
   "metadata": {},
   "outputs": [],
   "source": [
    "ds = xr.open_dataset(_DS_ASD_PATH)\n",
    "ds[\"err_corr_reflectance_wavelength\"].values = ec\n",
    "ds.to_netcdf(\"./ds_ASD_32.nc\")\n",
    "ds.close()"
   ]
  }
 ],
 "metadata": {
  "kernelspec": {
   "display_name": ".venv_jupyter",
   "language": "python",
   "name": "python3"
  },
  "language_info": {
   "codemirror_mode": {
    "name": "ipython",
    "version": 3
   },
   "file_extension": ".py",
   "mimetype": "text/x-python",
   "name": "python",
   "nbconvert_exporter": "python",
   "pygments_lexer": "ipython3",
   "version": "3.10.12"
  }
 },
 "nbformat": 4,
 "nbformat_minor": 2
}
